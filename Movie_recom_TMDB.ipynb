{
 "cells": [
  {
   "cell_type": "code",
   "execution_count": 31,
   "id": "4485e447-060b-48db-8800-e4c2fdca8fa7",
   "metadata": {},
   "outputs": [],
   "source": [
    "import requests\n",
    "import pandas as pd\n",
    "from sklearn.feature_extraction.text import TfidfVectorizer\n",
    "from sklearn.metrics.pairwise import linear_kernel"
   ]
  },
  {
   "cell_type": "code",
   "execution_count": 47,
   "id": "ee683021-f5c4-4c1b-9c17-70a6b3159d01",
   "metadata": {},
   "outputs": [],
   "source": [
    "def get_tmdb_recommendations(movie_title, api_key, top_n=10):\n",
    "    try:\n",
    "        search_url = f'https://api.themoviedb.org/3/search/movie?api_key={api_key}&query={movie_title}'\n",
    "        search_response = requests.get(search_url)\n",
    "        search_response.raise_for_status()\n",
    "        search_data = search_response.json()\n",
    "\n",
    "        if not search_data['results']:\n",
    "            print(f\"'{movie_title}' movie is not found in TMDb.\")\n",
    "            return None\n",
    "\n",
    "        movie_id = search_data['results'][0]['id']\n",
    "\n",
    "        recommendations_url = f'https://api.themoviedb.org/3/movie/{movie_id}/recommendations?api_key={api_key}&language=en-EN&page=1'\n",
    "        recommendations_response = requests.get(recommendations_url)\n",
    "        recommendations_response.raise_for_status()\n",
    "        recommendations_data = recommendations_response.json()\n",
    "\n",
    "        if not recommendations_data['results']:\n",
    "            print(f\"No recommedations for '{movie_title}' movie.\")\n",
    "            return None\n",
    "\n",
    "        df = pd.DataFrame(recommendations_data['results'])\n",
    "        df['overview'] = df['overview'].fillna('')\n",
    "\n",
    "        tfidf = TfidfVectorizer(stop_words='english')  \n",
    "        tfidf_matrix = tfidf.fit_transform(df['overview'])\n",
    "        cosine_sim = linear_kernel(tfidf_matrix, tfidf_matrix)\n",
    "\n",
    "        search_title_lower = movie_title.lower() \n",
    "        df_titles_lower = df['title'].str.lower() \n",
    "        idx = df.index[df_titles_lower == search_title_lower].tolist() \n",
    "\n",
    "        if not idx: \n",
    "            idx = 0 \n",
    "        else:\n",
    "            idx = idx[0]\n",
    "        sim_scores = list(enumerate(cosine_sim[idx]))\n",
    "        sim_scores = sorted(sim_scores, key=lambda x: x[1], reverse=True)\n",
    "        sim_scores = sim_scores[1:top_n + 1]\n",
    "        movie_indices = [i[0] for i in sim_scores]\n",
    "\n",
    "        return df['title'].iloc[movie_indices]\n",
    "\n",
    "    except requests.exceptions.RequestException as e:\n",
    "        print(f\"Request error to TMDb API: {e}\")\n",
    "        return None\n",
    "    except Exception as e:\n",
    "        print(f\"Unexpected error: {e}\")\n",
    "        return None"
   ]
  },
  {
   "cell_type": "code",
   "execution_count": 49,
   "id": "24b4ff93-4335-429f-812f-87f079940f29",
   "metadata": {},
   "outputs": [],
   "source": [
    "def get_tmdb_overview(movie_title, api_key):\n",
    "    search_url = f'https://api.themoviedb.org/3/search/movie?api_key={api_key}&query={movie_title}'\n",
    "    try:\n",
    "        response = requests.get(search_url)\n",
    "        response.raise_for_status()\n",
    "        data = response.json()\n",
    "        if data['results']:\n",
    "            return data['results'][0].get('overview', '')\n",
    "        else:\n",
    "            return ''\n",
    "    except requests.exceptions.RequestException as e:\n",
    "        print(f'Error getting description from TMDB: {e}')\n",
    "        return ''"
   ]
  },
  {
   "cell_type": "code",
   "execution_count": 51,
   "id": "0fcd1bd7-0974-4e65-a111-e500aff9cd93",
   "metadata": {},
   "outputs": [
    {
     "name": "stdout",
     "output_type": "stream",
     "text": [
      "Recommendations for 'Deadpool':\n",
      "2                         Doctor Strange\n",
      "4           Star Wars: The Force Awakens\n",
      "15                    Mad Max: Fury Road\n",
      "19                       Kung Fu Panda 3\n",
      "12                               Ant-Man\n",
      "1             Captain America: Civil War\n",
      "3     Batman v Superman: Dawn of Justice\n",
      "5                               Zootopia\n",
      "6                Guardians of the Galaxy\n",
      "7                           The Avengers\n",
      "Name: title, dtype: object\n",
      "\n",
      "Description for 'Deadpool': The origin story of former Special Forces operative turned mercenary Wade Wilson, who, after being subjected to a rogue experiment that leaves him with accelerated healing powers, adopts the alter ego Deadpool. Armed with his new abilities and a dark, twisted sense of humor, Deadpool hunts down the man who nearly destroyed his life.\n"
     ]
    }
   ],
   "source": [
    "api_key = \"b8b61d90e28e284765d67d8d8937dc32\" \n",
    "movie_title = \"Deadpool\"\n",
    "\n",
    "recommendations = get_tmdb_recommendations(movie_title, api_key)\n",
    "overview = get_tmdb_overview(movie_title, api_key)\n",
    "\n",
    "if recommendations is not None:\n",
    "    print(f\"Recommendations for '{movie_title}':\")\n",
    "    print(recommendations)\n",
    "\n",
    "if overview:\n",
    "    print(f\"\\nDescription for '{movie_title}': {overview}\")"
   ]
  },
  {
   "cell_type": "code",
   "execution_count": null,
   "id": "ae8ce2bb-d748-4c89-995f-3ada9c4bc9e7",
   "metadata": {},
   "outputs": [],
   "source": []
  }
 ],
 "metadata": {
  "kernelspec": {
   "display_name": "Python 3 (ipykernel)",
   "language": "python",
   "name": "python3"
  },
  "language_info": {
   "codemirror_mode": {
    "name": "ipython",
    "version": 3
   },
   "file_extension": ".py",
   "mimetype": "text/x-python",
   "name": "python",
   "nbconvert_exporter": "python",
   "pygments_lexer": "ipython3",
   "version": "3.11.9"
  }
 },
 "nbformat": 4,
 "nbformat_minor": 5
}
